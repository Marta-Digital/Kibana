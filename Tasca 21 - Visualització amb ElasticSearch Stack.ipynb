{
 "cells": [
  {
   "cell_type": "markdown",
   "metadata": {},
   "source": [
    "![logo](banner.jpg)"
   ]
  },
  {
   "cell_type": "markdown",
   "metadata": {},
   "source": [
    "<h1><center><span style=\"color:blue\">TASCA 21 - IT Academy</span></center></h1>\n",
    "<h2><center><span style=\"color:blue\">Curs Data Science</span></center></h2>"
   ]
  },
  {
   "cell_type": "code",
   "execution_count": 109,
   "metadata": {},
   "outputs": [],
   "source": [
    "import pandas as pd\n",
    "import seaborn as sns\n",
    "import numpy as np\n",
    "import matplotlib.pyplot as plt\n",
    "from datetime import datetime\n",
    "import time\n",
    "import re"
   ]
  },
  {
   "cell_type": "markdown",
   "metadata": {},
   "source": [
    "### <span style=\"color:black\">Exercici 1.</span>\n",
    "\n",
    "__Descarrega't Kibana i mostra algunes gràfiques utilitzant conjunts de dades d'Exemple:__ <span style=\"color:blue\">__[X] Fet__</span>"
   ]
  },
  {
   "cell_type": "code",
   "execution_count": null,
   "metadata": {},
   "outputs": [],
   "source": [
    "# Gráficos realizados con el dataset de ejemplo Delayed Flights. "
   ]
  },
  {
   "cell_type": "markdown",
   "metadata": {},
   "source": [
    "![img](DelayedFlights.png)"
   ]
  },
  {
   "cell_type": "markdown",
   "metadata": {},
   "source": [
    "     "
   ]
  },
  {
   "cell_type": "markdown",
   "metadata": {},
   "source": [
    "### <span style=\"color:black\">Exercici 2.</span>\n",
    "\n",
    "__Implementa un dashboard que visualitzi interactivament les dades que triïs:__ <span style=\"color:blue\">__[X] Fet__</span>"
   ]
  },
  {
   "cell_type": "code",
   "execution_count": null,
   "metadata": {},
   "outputs": [],
   "source": [
    "# Como mi background profesional es en áreas de Marketing y Ventas en los sectores de moda y belleza, me ha parecido \n",
    "# especialmente interesante realizar un dashboard sobre el catálog de productos de Sephora."
   ]
  },
  {
   "cell_type": "code",
   "execution_count": null,
   "metadata": {},
   "outputs": [],
   "source": [
    "# En las siguientes líneas lo que vamos a hacer es examinar los datos, ver si tiene valores null, eliminar las columnas que no\n",
    "# nos interesen para la visualización en Kibana, eliminar caracteres especiales, así como crear columnas nuevas que nos ayudarán\n",
    "# a visualizar ciertas métricas en Kibana. "
   ]
  },
  {
   "cell_type": "code",
   "execution_count": 524,
   "metadata": {},
   "outputs": [],
   "source": [
    "data=pd.read_csv(\"sephora.csv\", sep=\",\", encoding='utf8')"
   ]
  },
  {
   "cell_type": "code",
   "execution_count": 525,
   "metadata": {},
   "outputs": [
    {
     "data": {
      "text/html": [
       "<div>\n",
       "<style scoped>\n",
       "    .dataframe tbody tr th:only-of-type {\n",
       "        vertical-align: middle;\n",
       "    }\n",
       "\n",
       "    .dataframe tbody tr th {\n",
       "        vertical-align: top;\n",
       "    }\n",
       "\n",
       "    .dataframe thead th {\n",
       "        text-align: right;\n",
       "    }\n",
       "</style>\n",
       "<table border=\"1\" class=\"dataframe\">\n",
       "  <thead>\n",
       "    <tr style=\"text-align: right;\">\n",
       "      <th></th>\n",
       "      <th>Unnamed: 0</th>\n",
       "      <th>Unnamed: 0.1</th>\n",
       "      <th>id</th>\n",
       "      <th>brand</th>\n",
       "      <th>category</th>\n",
       "      <th>name</th>\n",
       "      <th>size</th>\n",
       "      <th>rating</th>\n",
       "      <th>number_of_reviews</th>\n",
       "      <th>love</th>\n",
       "      <th>price</th>\n",
       "      <th>value_price</th>\n",
       "      <th>MarketingFlags</th>\n",
       "      <th>MarketingFlags_content</th>\n",
       "      <th>online_only</th>\n",
       "      <th>exclusive</th>\n",
       "      <th>limited_edition</th>\n",
       "      <th>limited_time_offer</th>\n",
       "      <th>discounts</th>\n",
       "      <th>product_name</th>\n",
       "    </tr>\n",
       "  </thead>\n",
       "  <tbody>\n",
       "    <tr>\n",
       "      <th>0</th>\n",
       "      <td>0</td>\n",
       "      <td>0</td>\n",
       "      <td>2218774</td>\n",
       "      <td>Acqua Di Parma</td>\n",
       "      <td>Fragrance</td>\n",
       "      <td>BluMediterraneoMINIATURESet</td>\n",
       "      <td>5x016oz5mL</td>\n",
       "      <td>4.0</td>\n",
       "      <td>4</td>\n",
       "      <td>3002</td>\n",
       "      <td>66.0</td>\n",
       "      <td>75.0</td>\n",
       "      <td>True</td>\n",
       "      <td>online only</td>\n",
       "      <td>Online exclusive</td>\n",
       "      <td>No exclusive</td>\n",
       "      <td>No Limited Edit.</td>\n",
       "      <td>No limited time offer</td>\n",
       "      <td>9.0</td>\n",
       "      <td>BluMediterraneoMINIATURESet Acqua Di Parma</td>\n",
       "    </tr>\n",
       "    <tr>\n",
       "      <th>1</th>\n",
       "      <td>1</td>\n",
       "      <td>1</td>\n",
       "      <td>2044816</td>\n",
       "      <td>Acqua Di Parma</td>\n",
       "      <td>Cologne</td>\n",
       "      <td>Colonia</td>\n",
       "      <td>07oz20mL</td>\n",
       "      <td>4.5</td>\n",
       "      <td>76</td>\n",
       "      <td>2700</td>\n",
       "      <td>66.0</td>\n",
       "      <td>66.0</td>\n",
       "      <td>True</td>\n",
       "      <td>online only</td>\n",
       "      <td>Online exclusive</td>\n",
       "      <td>No exclusive</td>\n",
       "      <td>No Limited Edit.</td>\n",
       "      <td>No limited time offer</td>\n",
       "      <td>No discount</td>\n",
       "      <td>Colonia Acqua Di Parma</td>\n",
       "    </tr>\n",
       "    <tr>\n",
       "      <th>2</th>\n",
       "      <td>2</td>\n",
       "      <td>2</td>\n",
       "      <td>1417567</td>\n",
       "      <td>Acqua Di Parma</td>\n",
       "      <td>Perfume</td>\n",
       "      <td>AranciadiCapri</td>\n",
       "      <td>5oz148mL</td>\n",
       "      <td>4.5</td>\n",
       "      <td>26</td>\n",
       "      <td>2600</td>\n",
       "      <td>180.0</td>\n",
       "      <td>180.0</td>\n",
       "      <td>True</td>\n",
       "      <td>online only</td>\n",
       "      <td>Online exclusive</td>\n",
       "      <td>No exclusive</td>\n",
       "      <td>No Limited Edit.</td>\n",
       "      <td>No limited time offer</td>\n",
       "      <td>No discount</td>\n",
       "      <td>AranciadiCapri Acqua Di Parma</td>\n",
       "    </tr>\n",
       "    <tr>\n",
       "      <th>3</th>\n",
       "      <td>3</td>\n",
       "      <td>3</td>\n",
       "      <td>1417617</td>\n",
       "      <td>Acqua Di Parma</td>\n",
       "      <td>Perfume</td>\n",
       "      <td>MirtodiPanarea</td>\n",
       "      <td>25oz74mL</td>\n",
       "      <td>4.5</td>\n",
       "      <td>23</td>\n",
       "      <td>2900</td>\n",
       "      <td>120.0</td>\n",
       "      <td>120.0</td>\n",
       "      <td>True</td>\n",
       "      <td>online only</td>\n",
       "      <td>Online exclusive</td>\n",
       "      <td>No exclusive</td>\n",
       "      <td>No Limited Edit.</td>\n",
       "      <td>No limited time offer</td>\n",
       "      <td>No discount</td>\n",
       "      <td>MirtodiPanarea Acqua Di Parma</td>\n",
       "    </tr>\n",
       "    <tr>\n",
       "      <th>4</th>\n",
       "      <td>4</td>\n",
       "      <td>4</td>\n",
       "      <td>2218766</td>\n",
       "      <td>Acqua Di Parma</td>\n",
       "      <td>Fragrance</td>\n",
       "      <td>ColoniaMiniatureSet</td>\n",
       "      <td>5x016oz5mL</td>\n",
       "      <td>3.5</td>\n",
       "      <td>2</td>\n",
       "      <td>943</td>\n",
       "      <td>72.0</td>\n",
       "      <td>80.0</td>\n",
       "      <td>True</td>\n",
       "      <td>online only</td>\n",
       "      <td>Online exclusive</td>\n",
       "      <td>No exclusive</td>\n",
       "      <td>No Limited Edit.</td>\n",
       "      <td>No limited time offer</td>\n",
       "      <td>8.0</td>\n",
       "      <td>ColoniaMiniatureSet Acqua Di Parma</td>\n",
       "    </tr>\n",
       "  </tbody>\n",
       "</table>\n",
       "</div>"
      ],
      "text/plain": [
       "   Unnamed: 0  Unnamed: 0.1       id           brand   category  \\\n",
       "0           0             0  2218774  Acqua Di Parma  Fragrance   \n",
       "1           1             1  2044816  Acqua Di Parma    Cologne   \n",
       "2           2             2  1417567  Acqua Di Parma    Perfume   \n",
       "3           3             3  1417617  Acqua Di Parma    Perfume   \n",
       "4           4             4  2218766  Acqua Di Parma  Fragrance   \n",
       "\n",
       "                          name        size  rating  number_of_reviews  love  \\\n",
       "0  BluMediterraneoMINIATURESet  5x016oz5mL     4.0                  4  3002   \n",
       "1                      Colonia    07oz20mL     4.5                 76  2700   \n",
       "2               AranciadiCapri    5oz148mL     4.5                 26  2600   \n",
       "3               MirtodiPanarea    25oz74mL     4.5                 23  2900   \n",
       "4          ColoniaMiniatureSet  5x016oz5mL     3.5                  2   943   \n",
       "\n",
       "   price  value_price  MarketingFlags MarketingFlags_content  \\\n",
       "0   66.0         75.0            True            online only   \n",
       "1   66.0         66.0            True            online only   \n",
       "2  180.0        180.0            True            online only   \n",
       "3  120.0        120.0            True            online only   \n",
       "4   72.0         80.0            True            online only   \n",
       "\n",
       "        online_only     exclusive   limited_edition     limited_time_offer  \\\n",
       "0  Online exclusive  No exclusive  No Limited Edit.  No limited time offer   \n",
       "1  Online exclusive  No exclusive  No Limited Edit.  No limited time offer   \n",
       "2  Online exclusive  No exclusive  No Limited Edit.  No limited time offer   \n",
       "3  Online exclusive  No exclusive  No Limited Edit.  No limited time offer   \n",
       "4  Online exclusive  No exclusive  No Limited Edit.  No limited time offer   \n",
       "\n",
       "     discounts                                product_name  \n",
       "0          9.0  BluMediterraneoMINIATURESet Acqua Di Parma  \n",
       "1  No discount                      Colonia Acqua Di Parma  \n",
       "2  No discount               AranciadiCapri Acqua Di Parma  \n",
       "3  No discount               MirtodiPanarea Acqua Di Parma  \n",
       "4          8.0          ColoniaMiniatureSet Acqua Di Parma  "
      ]
     },
     "execution_count": 525,
     "metadata": {},
     "output_type": "execute_result"
    }
   ],
   "source": [
    "data.head()"
   ]
  },
  {
   "cell_type": "code",
   "execution_count": 526,
   "metadata": {},
   "outputs": [
    {
     "name": "stdout",
     "output_type": "stream",
     "text": [
      "<class 'pandas.core.frame.DataFrame'>\n",
      "RangeIndex: 9168 entries, 0 to 9167\n",
      "Data columns (total 20 columns):\n",
      " #   Column                  Non-Null Count  Dtype  \n",
      "---  ------                  --------------  -----  \n",
      " 0   Unnamed: 0              9168 non-null   int64  \n",
      " 1   Unnamed: 0.1            9168 non-null   int64  \n",
      " 2   id                      9168 non-null   int64  \n",
      " 3   brand                   9168 non-null   object \n",
      " 4   category                9168 non-null   object \n",
      " 5   name                    9168 non-null   object \n",
      " 6   size                    9168 non-null   object \n",
      " 7   rating                  9168 non-null   float64\n",
      " 8   number_of_reviews       9168 non-null   int64  \n",
      " 9   love                    9168 non-null   int64  \n",
      " 10  price                   9168 non-null   float64\n",
      " 11  value_price             9168 non-null   float64\n",
      " 12  MarketingFlags          9168 non-null   bool   \n",
      " 13  MarketingFlags_content  9168 non-null   object \n",
      " 14  online_only             9168 non-null   object \n",
      " 15  exclusive               9168 non-null   object \n",
      " 16  limited_edition         9168 non-null   object \n",
      " 17  limited_time_offer      9168 non-null   object \n",
      " 18  discounts               9168 non-null   object \n",
      " 19  product_name            9168 non-null   object \n",
      "dtypes: bool(1), float64(3), int64(5), object(11)\n",
      "memory usage: 1.3+ MB\n"
     ]
    }
   ],
   "source": [
    "data.info()"
   ]
  },
  {
   "cell_type": "code",
   "execution_count": 530,
   "metadata": {},
   "outputs": [],
   "source": [
    "data['MarketingFlags_content']=data['MarketingFlags_content'].replace(['0'], 'normal product')"
   ]
  },
  {
   "cell_type": "code",
   "execution_count": 531,
   "metadata": {},
   "outputs": [],
   "source": [
    "data['online_only']=data['online_only'].replace([0, 1], ['No Online exclusive', 'Online exclusive'])"
   ]
  },
  {
   "cell_type": "code",
   "execution_count": 532,
   "metadata": {},
   "outputs": [],
   "source": [
    "data['exclusive']=data['exclusive'].replace([0, 1], ['No exclusive', 'Sephora exclusive']) "
   ]
  },
  {
   "cell_type": "code",
   "execution_count": 533,
   "metadata": {},
   "outputs": [],
   "source": [
    "data['limited_edition']=data['limited_edition'].replace([0, 1], ['No Limited Edit.', 'Limited Edition']) "
   ]
  },
  {
   "cell_type": "code",
   "execution_count": 534,
   "metadata": {},
   "outputs": [],
   "source": [
    "data['limited_time_offer']=data['limited_time_offer'].replace([0, 1], ['No limited time offer', 'Limited time offer'])"
   ]
  },
  {
   "cell_type": "code",
   "execution_count": 535,
   "metadata": {},
   "outputs": [],
   "source": [
    "data['discounts']= data['value_price']-data['price']"
   ]
  },
  {
   "cell_type": "code",
   "execution_count": 536,
   "metadata": {},
   "outputs": [],
   "source": [
    "data['discounts']=data['discounts'].replace([\"No Discount\" if e == 0.0 else \"Discount\" for e in data['discounts']])"
   ]
  },
  {
   "cell_type": "code",
   "execution_count": 537,
   "metadata": {},
   "outputs": [],
   "source": [
    "data['discounts']=data['discounts'].replace([0.0], ['No discount'])"
   ]
  },
  {
   "cell_type": "code",
   "execution_count": 538,
   "metadata": {},
   "outputs": [
    {
     "data": {
      "text/plain": [
       "No discount    8619\n",
       "15.0             23\n",
       "8.0              21\n",
       "10.0             21\n",
       "22.0             19\n",
       "               ... \n",
       "15.5              1\n",
       "93.0              1\n",
       "97.0              1\n",
       "100.0             1\n",
       "10.5              1\n",
       "Name: discounts, Length: 108, dtype: int64"
      ]
     },
     "execution_count": 538,
     "metadata": {},
     "output_type": "execute_result"
    }
   ],
   "source": [
    "data['discounts'].value_counts()"
   ]
  },
  {
   "cell_type": "code",
   "execution_count": 539,
   "metadata": {},
   "outputs": [],
   "source": [
    "data['Product name'] = data['name'] + ' ' + data['brand']"
   ]
  },
  {
   "cell_type": "code",
   "execution_count": 540,
   "metadata": {},
   "outputs": [
    {
     "name": "stdout",
     "output_type": "stream",
     "text": [
      "Total Number of NaN values: \n",
      "Unnamed: 0                0\n",
      "Unnamed: 0.1              0\n",
      "id                        0\n",
      "brand                     0\n",
      "category                  0\n",
      "name                      0\n",
      "size                      0\n",
      "rating                    0\n",
      "number_of_reviews         0\n",
      "love                      0\n",
      "price                     0\n",
      "value_price               0\n",
      "MarketingFlags            0\n",
      "MarketingFlags_content    0\n",
      "online_only               0\n",
      "exclusive                 0\n",
      "limited_edition           0\n",
      "limited_time_offer        0\n",
      "discounts                 0\n",
      "product_name              0\n",
      "Product name              0\n",
      "dtype: int64\n"
     ]
    }
   ],
   "source": [
    "total_nan_values = data.isnull().sum()\n",
    "print (\"Total Number of NaN values: \"+'\\n'+str(total_nan_values))"
   ]
  },
  {
   "cell_type": "code",
   "execution_count": 541,
   "metadata": {
    "collapsed": true
   },
   "outputs": [
    {
     "name": "stderr",
     "output_type": "stream",
     "text": [
      "c:\\users\\marta\\appdata\\local\\programs\\python\\python37\\lib\\site-packages\\ipykernel_launcher.py:1: FutureWarning: The default value of regex will change from True to False in a future version.\n",
      "  \"\"\"Entry point for launching an IPython kernel.\n"
     ]
    }
   ],
   "source": [
    "data['name'] = data['name'].str.replace(r\"[^a-zA-Z\\d\\_]+\", \" \")    "
   ]
  },
  {
   "cell_type": "code",
   "execution_count": 542,
   "metadata": {
    "collapsed": true
   },
   "outputs": [
    {
     "name": "stderr",
     "output_type": "stream",
     "text": [
      "c:\\users\\marta\\appdata\\local\\programs\\python\\python37\\lib\\site-packages\\ipykernel_launcher.py:1: FutureWarning: The default value of regex will change from True to False in a future version.\n",
      "  \"\"\"Entry point for launching an IPython kernel.\n"
     ]
    }
   ],
   "source": [
    "data['product_name'] = data['product_name'].str.replace(r\"[^a-zA-Z\\d\\_]+\", \" \")  "
   ]
  },
  {
   "cell_type": "code",
   "execution_count": 543,
   "metadata": {
    "collapsed": true
   },
   "outputs": [
    {
     "name": "stderr",
     "output_type": "stream",
     "text": [
      "c:\\users\\marta\\appdata\\local\\programs\\python\\python37\\lib\\site-packages\\ipykernel_launcher.py:1: FutureWarning: The default value of regex will change from True to False in a future version.\n",
      "  \"\"\"Entry point for launching an IPython kernel.\n"
     ]
    }
   ],
   "source": [
    "data['MarketingFlags_content'] = data['MarketingFlags_content'].str.replace(r\"[^a-zA-Z\\d\\_]+\", \" \")  "
   ]
  },
  {
   "cell_type": "code",
   "execution_count": 544,
   "metadata": {},
   "outputs": [],
   "source": [
    "data['product_name']=data['product_name'].astype(str)\n",
    "data['MarketingFlags_content']=data['MarketingFlags_content'].astype(str)"
   ]
  },
  {
   "cell_type": "code",
   "execution_count": 545,
   "metadata": {
    "collapsed": true
   },
   "outputs": [
    {
     "name": "stderr",
     "output_type": "stream",
     "text": [
      "c:\\users\\marta\\appdata\\local\\programs\\python\\python37\\lib\\site-packages\\ipykernel_launcher.py:1: FutureWarning: The default value of regex will change from True to False in a future version.\n",
      "  \"\"\"Entry point for launching an IPython kernel.\n"
     ]
    }
   ],
   "source": [
    "data['size'] = data['size'].str.replace(r\"[^a-zA-Z\\d\\_]+\", \" \")  "
   ]
  },
  {
   "cell_type": "code",
   "execution_count": 546,
   "metadata": {},
   "outputs": [],
   "source": [
    "data['size']=data['size'].astype(str)"
   ]
  },
  {
   "cell_type": "code",
   "execution_count": 547,
   "metadata": {},
   "outputs": [],
   "source": [
    "data.drop(['Product name'], axis=1, inplace=True) "
   ]
  },
  {
   "cell_type": "code",
   "execution_count": 548,
   "metadata": {},
   "outputs": [
    {
     "data": {
      "text/plain": [
       "(9168, 20)"
      ]
     },
     "execution_count": 548,
     "metadata": {},
     "output_type": "execute_result"
    }
   ],
   "source": [
    "data.shape"
   ]
  },
  {
   "cell_type": "code",
   "execution_count": 549,
   "metadata": {},
   "outputs": [
    {
     "data": {
      "text/html": [
       "<div>\n",
       "<style scoped>\n",
       "    .dataframe tbody tr th:only-of-type {\n",
       "        vertical-align: middle;\n",
       "    }\n",
       "\n",
       "    .dataframe tbody tr th {\n",
       "        vertical-align: top;\n",
       "    }\n",
       "\n",
       "    .dataframe thead th {\n",
       "        text-align: right;\n",
       "    }\n",
       "</style>\n",
       "<table border=\"1\" class=\"dataframe\">\n",
       "  <thead>\n",
       "    <tr style=\"text-align: right;\">\n",
       "      <th></th>\n",
       "      <th>Unnamed: 0</th>\n",
       "      <th>Unnamed: 0.1</th>\n",
       "      <th>id</th>\n",
       "      <th>brand</th>\n",
       "      <th>category</th>\n",
       "      <th>name</th>\n",
       "      <th>size</th>\n",
       "      <th>rating</th>\n",
       "      <th>number_of_reviews</th>\n",
       "      <th>love</th>\n",
       "      <th>price</th>\n",
       "      <th>value_price</th>\n",
       "      <th>MarketingFlags</th>\n",
       "      <th>MarketingFlags_content</th>\n",
       "      <th>online_only</th>\n",
       "      <th>exclusive</th>\n",
       "      <th>limited_edition</th>\n",
       "      <th>limited_time_offer</th>\n",
       "      <th>discounts</th>\n",
       "      <th>product_name</th>\n",
       "    </tr>\n",
       "  </thead>\n",
       "  <tbody>\n",
       "    <tr>\n",
       "      <th>0</th>\n",
       "      <td>0</td>\n",
       "      <td>0</td>\n",
       "      <td>2218774</td>\n",
       "      <td>Acqua Di Parma</td>\n",
       "      <td>Fragrance</td>\n",
       "      <td>BluMediterraneoMINIATURESet</td>\n",
       "      <td>5x016oz5mL</td>\n",
       "      <td>4.0</td>\n",
       "      <td>4</td>\n",
       "      <td>3002</td>\n",
       "      <td>66.0</td>\n",
       "      <td>75.0</td>\n",
       "      <td>True</td>\n",
       "      <td>online only</td>\n",
       "      <td>Online exclusive</td>\n",
       "      <td>No exclusive</td>\n",
       "      <td>No Limited Edit.</td>\n",
       "      <td>No limited time offer</td>\n",
       "      <td>9.0</td>\n",
       "      <td>BluMediterraneoMINIATURESet Acqua Di Parma</td>\n",
       "    </tr>\n",
       "    <tr>\n",
       "      <th>1</th>\n",
       "      <td>1</td>\n",
       "      <td>1</td>\n",
       "      <td>2044816</td>\n",
       "      <td>Acqua Di Parma</td>\n",
       "      <td>Cologne</td>\n",
       "      <td>Colonia</td>\n",
       "      <td>07oz20mL</td>\n",
       "      <td>4.5</td>\n",
       "      <td>76</td>\n",
       "      <td>2700</td>\n",
       "      <td>66.0</td>\n",
       "      <td>66.0</td>\n",
       "      <td>True</td>\n",
       "      <td>online only</td>\n",
       "      <td>Online exclusive</td>\n",
       "      <td>No exclusive</td>\n",
       "      <td>No Limited Edit.</td>\n",
       "      <td>No limited time offer</td>\n",
       "      <td>No discount</td>\n",
       "      <td>Colonia Acqua Di Parma</td>\n",
       "    </tr>\n",
       "    <tr>\n",
       "      <th>2</th>\n",
       "      <td>2</td>\n",
       "      <td>2</td>\n",
       "      <td>1417567</td>\n",
       "      <td>Acqua Di Parma</td>\n",
       "      <td>Perfume</td>\n",
       "      <td>AranciadiCapri</td>\n",
       "      <td>5oz148mL</td>\n",
       "      <td>4.5</td>\n",
       "      <td>26</td>\n",
       "      <td>2600</td>\n",
       "      <td>180.0</td>\n",
       "      <td>180.0</td>\n",
       "      <td>True</td>\n",
       "      <td>online only</td>\n",
       "      <td>Online exclusive</td>\n",
       "      <td>No exclusive</td>\n",
       "      <td>No Limited Edit.</td>\n",
       "      <td>No limited time offer</td>\n",
       "      <td>No discount</td>\n",
       "      <td>AranciadiCapri Acqua Di Parma</td>\n",
       "    </tr>\n",
       "    <tr>\n",
       "      <th>3</th>\n",
       "      <td>3</td>\n",
       "      <td>3</td>\n",
       "      <td>1417617</td>\n",
       "      <td>Acqua Di Parma</td>\n",
       "      <td>Perfume</td>\n",
       "      <td>MirtodiPanarea</td>\n",
       "      <td>25oz74mL</td>\n",
       "      <td>4.5</td>\n",
       "      <td>23</td>\n",
       "      <td>2900</td>\n",
       "      <td>120.0</td>\n",
       "      <td>120.0</td>\n",
       "      <td>True</td>\n",
       "      <td>online only</td>\n",
       "      <td>Online exclusive</td>\n",
       "      <td>No exclusive</td>\n",
       "      <td>No Limited Edit.</td>\n",
       "      <td>No limited time offer</td>\n",
       "      <td>No discount</td>\n",
       "      <td>MirtodiPanarea Acqua Di Parma</td>\n",
       "    </tr>\n",
       "    <tr>\n",
       "      <th>4</th>\n",
       "      <td>4</td>\n",
       "      <td>4</td>\n",
       "      <td>2218766</td>\n",
       "      <td>Acqua Di Parma</td>\n",
       "      <td>Fragrance</td>\n",
       "      <td>ColoniaMiniatureSet</td>\n",
       "      <td>5x016oz5mL</td>\n",
       "      <td>3.5</td>\n",
       "      <td>2</td>\n",
       "      <td>943</td>\n",
       "      <td>72.0</td>\n",
       "      <td>80.0</td>\n",
       "      <td>True</td>\n",
       "      <td>online only</td>\n",
       "      <td>Online exclusive</td>\n",
       "      <td>No exclusive</td>\n",
       "      <td>No Limited Edit.</td>\n",
       "      <td>No limited time offer</td>\n",
       "      <td>8.0</td>\n",
       "      <td>ColoniaMiniatureSet Acqua Di Parma</td>\n",
       "    </tr>\n",
       "  </tbody>\n",
       "</table>\n",
       "</div>"
      ],
      "text/plain": [
       "   Unnamed: 0  Unnamed: 0.1       id           brand   category  \\\n",
       "0           0             0  2218774  Acqua Di Parma  Fragrance   \n",
       "1           1             1  2044816  Acqua Di Parma    Cologne   \n",
       "2           2             2  1417567  Acqua Di Parma    Perfume   \n",
       "3           3             3  1417617  Acqua Di Parma    Perfume   \n",
       "4           4             4  2218766  Acqua Di Parma  Fragrance   \n",
       "\n",
       "                          name        size  rating  number_of_reviews  love  \\\n",
       "0  BluMediterraneoMINIATURESet  5x016oz5mL     4.0                  4  3002   \n",
       "1                      Colonia    07oz20mL     4.5                 76  2700   \n",
       "2               AranciadiCapri    5oz148mL     4.5                 26  2600   \n",
       "3               MirtodiPanarea    25oz74mL     4.5                 23  2900   \n",
       "4          ColoniaMiniatureSet  5x016oz5mL     3.5                  2   943   \n",
       "\n",
       "   price  value_price  MarketingFlags MarketingFlags_content  \\\n",
       "0   66.0         75.0            True            online only   \n",
       "1   66.0         66.0            True            online only   \n",
       "2  180.0        180.0            True            online only   \n",
       "3  120.0        120.0            True            online only   \n",
       "4   72.0         80.0            True            online only   \n",
       "\n",
       "        online_only     exclusive   limited_edition     limited_time_offer  \\\n",
       "0  Online exclusive  No exclusive  No Limited Edit.  No limited time offer   \n",
       "1  Online exclusive  No exclusive  No Limited Edit.  No limited time offer   \n",
       "2  Online exclusive  No exclusive  No Limited Edit.  No limited time offer   \n",
       "3  Online exclusive  No exclusive  No Limited Edit.  No limited time offer   \n",
       "4  Online exclusive  No exclusive  No Limited Edit.  No limited time offer   \n",
       "\n",
       "     discounts                                product_name  \n",
       "0          9.0  BluMediterraneoMINIATURESet Acqua Di Parma  \n",
       "1  No discount                      Colonia Acqua Di Parma  \n",
       "2  No discount               AranciadiCapri Acqua Di Parma  \n",
       "3  No discount               MirtodiPanarea Acqua Di Parma  \n",
       "4          8.0          ColoniaMiniatureSet Acqua Di Parma  "
      ]
     },
     "execution_count": 549,
     "metadata": {},
     "output_type": "execute_result"
    }
   ],
   "source": [
    "data.head()"
   ]
  },
  {
   "cell_type": "code",
   "execution_count": 550,
   "metadata": {},
   "outputs": [],
   "source": [
    "data.drop(['Unnamed: 0', 'Unnamed: 0.1'], axis=1, inplace=True) "
   ]
  },
  {
   "cell_type": "code",
   "execution_count": 552,
   "metadata": {},
   "outputs": [
    {
     "data": {
      "text/html": [
       "<div>\n",
       "<style scoped>\n",
       "    .dataframe tbody tr th:only-of-type {\n",
       "        vertical-align: middle;\n",
       "    }\n",
       "\n",
       "    .dataframe tbody tr th {\n",
       "        vertical-align: top;\n",
       "    }\n",
       "\n",
       "    .dataframe thead th {\n",
       "        text-align: right;\n",
       "    }\n",
       "</style>\n",
       "<table border=\"1\" class=\"dataframe\">\n",
       "  <thead>\n",
       "    <tr style=\"text-align: right;\">\n",
       "      <th></th>\n",
       "      <th>id</th>\n",
       "      <th>brand</th>\n",
       "      <th>category</th>\n",
       "      <th>name</th>\n",
       "      <th>size</th>\n",
       "      <th>rating</th>\n",
       "      <th>number_of_reviews</th>\n",
       "      <th>love</th>\n",
       "      <th>price</th>\n",
       "      <th>value_price</th>\n",
       "      <th>MarketingFlags</th>\n",
       "      <th>MarketingFlags_content</th>\n",
       "      <th>online_only</th>\n",
       "      <th>exclusive</th>\n",
       "      <th>limited_edition</th>\n",
       "      <th>limited_time_offer</th>\n",
       "      <th>discounts</th>\n",
       "      <th>product_name</th>\n",
       "    </tr>\n",
       "  </thead>\n",
       "  <tbody>\n",
       "    <tr>\n",
       "      <th>0</th>\n",
       "      <td>2218774</td>\n",
       "      <td>Acqua Di Parma</td>\n",
       "      <td>Fragrance</td>\n",
       "      <td>BluMediterraneoMINIATURESet</td>\n",
       "      <td>5x016oz5mL</td>\n",
       "      <td>4.0</td>\n",
       "      <td>4</td>\n",
       "      <td>3002</td>\n",
       "      <td>66.0</td>\n",
       "      <td>75.0</td>\n",
       "      <td>True</td>\n",
       "      <td>online only</td>\n",
       "      <td>Online exclusive</td>\n",
       "      <td>No exclusive</td>\n",
       "      <td>No Limited Edit.</td>\n",
       "      <td>No limited time offer</td>\n",
       "      <td>9.0</td>\n",
       "      <td>BluMediterraneoMINIATURESet Acqua Di Parma</td>\n",
       "    </tr>\n",
       "    <tr>\n",
       "      <th>1</th>\n",
       "      <td>2044816</td>\n",
       "      <td>Acqua Di Parma</td>\n",
       "      <td>Cologne</td>\n",
       "      <td>Colonia</td>\n",
       "      <td>07oz20mL</td>\n",
       "      <td>4.5</td>\n",
       "      <td>76</td>\n",
       "      <td>2700</td>\n",
       "      <td>66.0</td>\n",
       "      <td>66.0</td>\n",
       "      <td>True</td>\n",
       "      <td>online only</td>\n",
       "      <td>Online exclusive</td>\n",
       "      <td>No exclusive</td>\n",
       "      <td>No Limited Edit.</td>\n",
       "      <td>No limited time offer</td>\n",
       "      <td>No discount</td>\n",
       "      <td>Colonia Acqua Di Parma</td>\n",
       "    </tr>\n",
       "    <tr>\n",
       "      <th>2</th>\n",
       "      <td>1417567</td>\n",
       "      <td>Acqua Di Parma</td>\n",
       "      <td>Perfume</td>\n",
       "      <td>AranciadiCapri</td>\n",
       "      <td>5oz148mL</td>\n",
       "      <td>4.5</td>\n",
       "      <td>26</td>\n",
       "      <td>2600</td>\n",
       "      <td>180.0</td>\n",
       "      <td>180.0</td>\n",
       "      <td>True</td>\n",
       "      <td>online only</td>\n",
       "      <td>Online exclusive</td>\n",
       "      <td>No exclusive</td>\n",
       "      <td>No Limited Edit.</td>\n",
       "      <td>No limited time offer</td>\n",
       "      <td>No discount</td>\n",
       "      <td>AranciadiCapri Acqua Di Parma</td>\n",
       "    </tr>\n",
       "  </tbody>\n",
       "</table>\n",
       "</div>"
      ],
      "text/plain": [
       "        id           brand   category                         name  \\\n",
       "0  2218774  Acqua Di Parma  Fragrance  BluMediterraneoMINIATURESet   \n",
       "1  2044816  Acqua Di Parma    Cologne                      Colonia   \n",
       "2  1417567  Acqua Di Parma    Perfume               AranciadiCapri   \n",
       "\n",
       "         size  rating  number_of_reviews  love  price  value_price  \\\n",
       "0  5x016oz5mL     4.0                  4  3002   66.0         75.0   \n",
       "1    07oz20mL     4.5                 76  2700   66.0         66.0   \n",
       "2    5oz148mL     4.5                 26  2600  180.0        180.0   \n",
       "\n",
       "   MarketingFlags MarketingFlags_content       online_only     exclusive  \\\n",
       "0            True            online only  Online exclusive  No exclusive   \n",
       "1            True            online only  Online exclusive  No exclusive   \n",
       "2            True            online only  Online exclusive  No exclusive   \n",
       "\n",
       "    limited_edition     limited_time_offer    discounts  \\\n",
       "0  No Limited Edit.  No limited time offer          9.0   \n",
       "1  No Limited Edit.  No limited time offer  No discount   \n",
       "2  No Limited Edit.  No limited time offer  No discount   \n",
       "\n",
       "                                 product_name  \n",
       "0  BluMediterraneoMINIATURESet Acqua Di Parma  \n",
       "1                      Colonia Acqua Di Parma  \n",
       "2               AranciadiCapri Acqua Di Parma  "
      ]
     },
     "execution_count": 552,
     "metadata": {},
     "output_type": "execute_result"
    }
   ],
   "source": [
    "data.head(3)"
   ]
  },
  {
   "cell_type": "code",
   "execution_count": 522,
   "metadata": {},
   "outputs": [],
   "source": [
    "data.to_csv('sephora.csv')"
   ]
  },
  {
   "cell_type": "code",
   "execution_count": null,
   "metadata": {},
   "outputs": [],
   "source": [
    "# Esta es el dashboard resultante en Kibana una vez realizada la ingesta de datos en ElasticSearch. "
   ]
  },
  {
   "cell_type": "markdown",
   "metadata": {},
   "source": [
    "![img](Sephora1.png)"
   ]
  },
  {
   "cell_type": "markdown",
   "metadata": {},
   "source": [
    "![img](Sephora2.png)"
   ]
  },
  {
   "cell_type": "markdown",
   "metadata": {},
   "source": [
    "    "
   ]
  },
  {
   "cell_type": "markdown",
   "metadata": {},
   "source": [
    "### <span style=\"color:black\">Exercici 3.</span>\n",
    "\n",
    "__Implementa un dashboard que generi gràfics utilitzant diferents tipus de gràfics que ofereix Kibana:__ <span style=\"color:blue\">__[X] Fet__</span>"
   ]
  },
  {
   "cell_type": "code",
   "execution_count": null,
   "metadata": {},
   "outputs": [],
   "source": [
    "# Con la base de datos eCommerce de Kibana, que también era un dataset que me interesaba por mi background profesional, he \n",
    "# intentado  generar diversos tipos de gráficos: métricas simples, mapas, series temporales, métricas agrupadas, barras, etc.   "
   ]
  },
  {
   "cell_type": "markdown",
   "metadata": {},
   "source": [
    "![img](eCommerce1.png)"
   ]
  },
  {
   "cell_type": "markdown",
   "metadata": {},
   "source": [
    "![img](eCommerce2.png)"
   ]
  },
  {
   "cell_type": "markdown",
   "metadata": {},
   "source": [
    "![img](eCommerce3.jpg)"
   ]
  },
  {
   "cell_type": "markdown",
   "metadata": {},
   "source": [
    "    "
   ]
  }
 ],
 "metadata": {
  "kernelspec": {
   "display_name": "Python 3",
   "language": "python",
   "name": "python3"
  },
  "language_info": {
   "codemirror_mode": {
    "name": "ipython",
    "version": 3
   },
   "file_extension": ".py",
   "mimetype": "text/x-python",
   "name": "python",
   "nbconvert_exporter": "python",
   "pygments_lexer": "ipython3",
   "version": "3.7.4"
  }
 },
 "nbformat": 4,
 "nbformat_minor": 4
}
